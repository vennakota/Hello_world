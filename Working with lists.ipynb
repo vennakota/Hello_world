{
 "cells": [
  {
   "cell_type": "markdown",
   "metadata": {},
   "source": [
    "### Assignment 1: Working with lists "
   ]
  },
  {
   "cell_type": "markdown",
   "metadata": {},
   "source": [
    " ### <font color=green>*General instructions*</font>"
   ]
  },
  {
   "cell_type": "markdown",
   "metadata": {},
   "source": [
    "- Each assignment needs to be an individual submission\n",
    "- No two persons should have the same data . So please coordinate\n",
    "- The submission should be a  HTML file named as assignment1_firstname\n",
    "- Clear description at what you are trying to do at every point using mark-up\n",
    "- Clear display of results\n"
   ]
  },
  {
   "cell_type": "markdown",
   "metadata": {},
   "source": [
    " ### <font color=purple>*Assignment questions*</font>"
   ]
  },
  {
   "cell_type": "markdown",
   "metadata": {},
   "source": [
    "1.\tCreate a list of 100 elements using real data: Example :  cities of the world\n",
    "2.\tStore 90 elements as list1 and 10 as list2\n",
    "3.\tStart working with list1\n",
    "4.\tDemonstrate the use of type and print functions\n",
    "5.\tSlice first 10 elements of your list\n",
    "6.\tSlice the middle 50% elements and store it in a new list\n",
    "7.\tPrint the last 15 items using negative index\n",
    "8.\tUse Append () to add list2 items to list1. Use pop() to delete list 2 items\n",
    "9.\tUse extend () to add list2 items to list1. Use del() to delete list 2 items\n",
    "10.\tUse insert () to add list2 items to list1. Use remove()  to delete list 2 items\n",
    "\n",
    "\n"
   ]
  },
  {
   "cell_type": "markdown",
   "metadata": {},
   "source": [
    "Good luck! "
   ]
  },
  {
   "cell_type": "code",
   "execution_count": null,
   "metadata": {},
   "outputs": [],
   "source": []
  }
 ],
 "metadata": {
  "kernelspec": {
   "display_name": "Python 3",
   "language": "python",
   "name": "python3"
  },
  "language_info": {
   "codemirror_mode": {
    "name": "ipython",
    "version": 3
   },
   "file_extension": ".py",
   "mimetype": "text/x-python",
   "name": "python",
   "nbconvert_exporter": "python",
   "pygments_lexer": "ipython3",
   "version": "3.7.3"
  }
 },
 "nbformat": 4,
 "nbformat_minor": 2
}
